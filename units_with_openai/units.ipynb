{
 "cells": [
  {
   "cell_type": "code",
   "execution_count": 16,
   "metadata": {},
   "outputs": [],
   "source": [
    "import openai\n",
    "import os\n",
    "\n",
    "from dotenv import load_dotenv, find_dotenv\n",
    "_ = load_dotenv(find_dotenv())\n",
    "\n",
    "openai.api_key  = os.getenv('OPENAI_API_KEY')"
   ]
  },
  {
   "cell_type": "code",
   "execution_count": 12,
   "metadata": {},
   "outputs": [],
   "source": [
    "def get_completion(prompt, model=\"gpt-3.5-turbo\"):\n",
    "    messages = [{\"role\": \"user\", \"content\": prompt}]\n",
    "    response = openai.ChatCompletion.create(\n",
    "        model=model,\n",
    "        messages=messages,\n",
    "        temperature=0,\n",
    "    )\n",
    "    return response.choices[0].message[\"content\"]"
   ]
  },
  {
   "cell_type": "code",
   "execution_count": 36,
   "metadata": {},
   "outputs": [],
   "source": [
    "code=\"\"\"\n",
    "package com.orbitradar.domain.usecase\n",
    "\n",
    "import com.orbitradar.domain.TleRepositoryInterface\n",
    "import com.orbitradar.domain.config.TleType\n",
    "import com.orbitradar.domain.converter.toSatelliteDomain\n",
    "import com.orbitradar.domain.model.SatelliteDomain\n",
    "import javax.inject.Inject\n",
    "\n",
    "class GetSatellites @Inject constructor(\n",
    "    private val tleRepository: TleRepositoryInterface\n",
    ") {\n",
    "\n",
    "    suspend operator fun invoke(vararg tleTypes: TleType): List<SatelliteDomain> =\n",
    "        tleRepository.getTles(*tleTypes).map { it.toSatelliteDomain() }\n",
    "\n",
    "    suspend operator fun invoke(searchName: String): List<SatelliteDomain> =\n",
    "        tleRepository.getTles(searchName).map { it.toSatelliteDomain() }\n",
    "}\n",
    "\"\"\""
   ]
  },
  {
   "cell_type": "code",
   "execution_count": 39,
   "metadata": {},
   "outputs": [],
   "source": [
    "prompt_template=f'''\n",
    "You will be provided with code written in kotlin programming language which will be a code which is a part of the android project.\n",
    "Your task is to write unit tests for this code. Use the following specifications marked with the * characters.\n",
    "\n",
    "* Use mockito kotlin library\n",
    "* If class name is SampleClassName then unit test class should be named SampleClassNameTest\n",
    "* Assume using junit4 library\n",
    "* For mock instances use following naming convention: mockSampleProperty\n",
    "* Avoid using annotation for generating mock properties\n",
    "* Don't use @Before and @After annotations and setup methods as junit4 recreates all properties\n",
    "* Don't use lateinit when creating mock properties\n",
    "* Create instance of class with name systemUnderTest\n",
    "* Tests should be granular, avoid writing big tests\n",
    "* Test functions should be named with given action for example fun `returns list data when no error occurs`(). Avoid camel case naming convention for test functions\n",
    "* Use Given, When, Then convention\n",
    "* If there is a need to use mockito kotlin whenever and same whenever statement repeats, then create private helper function with name e.g. assumeNoInternetConnection\n",
    "* All tests should be completed. If you don't know how to write given unit test then don't write it\n",
    "* As an output print only generated code, avoid any response messages\n",
    "\n",
    "Here is a code:\n",
    "```{code}```\n",
    "'''"
   ]
  },
  {
   "cell_type": "code",
   "execution_count": 40,
   "metadata": {},
   "outputs": [
    {
     "name": "stdout",
     "output_type": "stream",
     "text": [
      "```\n",
      "package com.orbitradar.domain.usecase\n",
      "\n",
      "import com.nhaarman.mockitokotlin2.mock\n",
      "import com.nhaarman.mockitokotlin2.whenever\n",
      "import com.orbitradar.domain.TleRepositoryInterface\n",
      "import com.orbitradar.domain.config.TleType\n",
      "import com.orbitradar.domain.model.SatelliteDomain\n",
      "import kotlinx.coroutines.runBlocking\n",
      "import org.junit.Test\n",
      "\n",
      "class GetSatellitesTest {\n",
      "\n",
      "    private val mockTleRepository: TleRepositoryInterface = mock()\n",
      "    private val systemUnderTest = GetSatellites(mockTleRepository)\n",
      "\n",
      "    @Test\n",
      "    fun `returns list of SatelliteDomain when invoking with TleType`() {\n",
      "        // Given\n",
      "        val tleTypes = arrayOf(TleType.TYPE1, TleType.TYPE2)\n",
      "        val mockTles = listOf(mock<Tle>(), mock<Tle>())\n",
      "        val expectedSatellites = listOf(mock<SatelliteDomain>(), mock<SatelliteDomain>())\n",
      "        whenever(mockTleRepository.getTles(*tleTypes)).thenReturn(mockTles)\n",
      "        mockTles.forEachIndexed { index, tle ->\n",
      "            whenever(tle.toSatelliteDomain()).thenReturn(expectedSatellites[index])\n",
      "        }\n",
      "\n",
      "        // When\n",
      "        val result = runBlocking { systemUnderTest(*tleTypes) }\n",
      "\n",
      "        // Then\n",
      "        assert(result == expectedSatellites)\n",
      "    }\n",
      "\n",
      "    @Test\n",
      "    fun `returns list of SatelliteDomain when invoking with searchName`() {\n",
      "        // Given\n",
      "        val searchName = \"Satellite\"\n",
      "        val mockTles = listOf(mock<Tle>(), mock<Tle>())\n",
      "        val expectedSatellites = listOf(mock<SatelliteDomain>(), mock<SatelliteDomain>())\n",
      "        whenever(mockTleRepository.getTles(searchName)).thenReturn(mockTles)\n",
      "        mockTles.forEachIndexed { index, tle ->\n",
      "            whenever(tle.toSatelliteDomain()).thenReturn(expectedSatellites[index])\n",
      "        }\n",
      "\n",
      "        // When\n",
      "        val result = runBlocking { systemUnderTest(searchName) }\n",
      "\n",
      "        // Then\n",
      "        assert(result == expectedSatellites)\n",
      "    }\n",
      "}\n",
      "```\n"
     ]
    }
   ],
   "source": [
    "response = get_completion(prompt_template)\n",
    "print(response)"
   ]
  },
  {
   "cell_type": "code",
   "execution_count": null,
   "metadata": {},
   "outputs": [],
   "source": []
  }
 ],
 "metadata": {
  "kernelspec": {
   "display_name": "Python 3",
   "language": "python",
   "name": "python3"
  },
  "language_info": {
   "codemirror_mode": {
    "name": "ipython",
    "version": 3
   },
   "file_extension": ".py",
   "mimetype": "text/x-python",
   "name": "python",
   "nbconvert_exporter": "python",
   "pygments_lexer": "ipython3",
   "version": "3.10.12"
  },
  "orig_nbformat": 4
 },
 "nbformat": 4,
 "nbformat_minor": 2
}
